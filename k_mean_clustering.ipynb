{
 "cells": [
  {
   "cell_type": "code",
   "execution_count": 1,
   "metadata": {},
   "outputs": [],
   "source": [
    "import numpy as np\n",
    "import matplotlib.pyplot as plt"
   ]
  },
  {
   "cell_type": "code",
   "execution_count": 2,
   "metadata": {},
   "outputs": [],
   "source": [
    "class KMeansCustom:\n",
    "    def __init__(self,k=2):\n",
    "        self.k=k\n",
    "    def fit(self,x,iteration=100,tolerance=0.01):\n",
    "        self.centroid_final={}\n",
    "#         print(self.k)\n",
    "        n=len(x)//(self.k+1)\n",
    "        for cluster in range(self.k):\n",
    "            self.centroid_final[cluster]=x[cluster*n]\n",
    "        print(\"Previous centroid:\",self.centroid_final)\n",
    "        \n",
    "#         for g in x:\n",
    "#             plt.scatter(g[0],g[1])\n",
    "#         for h in self.centroid_final.values():\n",
    "#             plt.scatter(h[0],h[1],c=\"red\",s=200,marker=\"+\")\n",
    "#         plt.show()\n",
    "\n",
    "\n",
    "        for rt in range(iteration):\n",
    "            self.cluster_final={}\n",
    "            for p in range(self.k):\n",
    "                self.cluster_final[p]=[]\n",
    "            for j in x:\n",
    "                l=[]\n",
    "                for k_cluster in range(self.k):\n",
    "                    l.append(np.linalg.norm(self.centroid_final[k_cluster]-j))\n",
    "                self.cluster_final[l.index(min(l))].append(j)\n",
    "            new_centroid_final={}\n",
    "            for cnt in self.cluster_final:\n",
    "                new_centroid_final[cnt]=np.average(self.cluster_final[cnt],axis=0)\n",
    "            \n",
    "#             print(\"Current:\",new_centroid_final)\n",
    "            tol_sum=0\n",
    "            for current_prev in self.centroid_final:\n",
    "                tol_sum+=np.sum(self.centroid_final[current_prev]-new_centroid_final[current_prev])\n",
    "            \n",
    "            label=True\n",
    "            print(\"Tolerence_\"+str(rt),abs(tol_sum),tolerance)\n",
    "            if(abs(tol_sum)>tolerance):\n",
    "                for prev in self.centroid_final:\n",
    "                    self.centroid_final[prev]=new_centroid_final[prev]\n",
    "                label=False\n",
    "                \n",
    "            if label:\n",
    "                break\n",
    "#             for g in x:\n",
    "#                 plt.scatter(g[0],g[1])\n",
    "#             for h in self.centroid_final.values():\n",
    "#                 plt.scatter(h[0],h[1],c=\"red\",s=200,marker=\"+\")\n",
    "#             plt.show()\n",
    "#             break\n",
    "        print(\"Final centroid:\",self.centroid_final)\n",
    "    def predict(self,y):\n",
    "        p_list=[]\n",
    "        for k_cluster in range(self.k):\n",
    "                    p_list.append(np.linalg.norm(self.centroid_final[k_cluster]-np.array(y)))\n",
    "                    group=p_list.index(min(p_list))\n",
    "        return group"
   ]
  },
  {
   "cell_type": "code",
   "execution_count": 3,
   "metadata": {},
   "outputs": [],
   "source": [
    "from sklearn.datasets import load_iris"
   ]
  },
  {
   "cell_type": "code",
   "execution_count": 4,
   "metadata": {},
   "outputs": [],
   "source": [
    "data=load_iris()\n",
    "X=data['data'][:,[0,1]]"
   ]
  },
  {
   "cell_type": "code",
   "execution_count": 5,
   "metadata": {},
   "outputs": [],
   "source": [
    "clf=KMeansCustom(k=3)"
   ]
  },
  {
   "cell_type": "code",
   "execution_count": 6,
   "metadata": {},
   "outputs": [
    {
     "name": "stdout",
     "output_type": "stream",
     "text": [
      "Previous centroid: {0: array([5.1, 3.5]), 1: array([4.9, 3.1]), 2: array([6.4, 2.9])}\n",
      "Tolerence_0 0.1857006403994319 0.001\n",
      "Tolerence_1 0.1241129560917913 0.001\n",
      "Tolerence_2 0.1537280701754411 0.001\n",
      "Tolerence_3 0.09359217171717082 0.001\n",
      "Tolerence_4 0.054673659673658115 0.001\n",
      "Tolerence_5 0.0182154554960392 0.001\n",
      "Tolerence_6 0.10337743443850567 0.001\n",
      "Tolerence_7 0.11247677119628197 0.001\n",
      "Tolerence_8 0.14229271708683422 0.001\n",
      "Tolerence_9 0.08412486533074937 0.001\n",
      "Tolerence_10 0.028592291222760746 0.001\n",
      "Tolerence_11 0.0 0.001\n",
      "Final centroid: {0: array([5.006, 3.418]), 1: array([5.77358491, 2.69245283]), 2: array([6.81276596, 3.07446809])}\n"
     ]
    }
   ],
   "source": [
    "clf.fit(X,tolerance=0.001)"
   ]
  },
  {
   "cell_type": "code",
   "execution_count": 7,
   "metadata": {},
   "outputs": [
    {
     "name": "stdout",
     "output_type": "stream",
     "text": [
      "1\n"
     ]
    },
    {
     "data": {
      "image/png": "[encoded data removed]",
      "text/plain": [
       "<Figure size 432x288 with 1 Axes>"
      ]
     },
     "metadata": {},
     "output_type": "display_data"
    },
    {
     "data": {
      "image/png": "[encoded data removed]",
      "text/plain": [
       "<Figure size 432x288 with 1 Axes>"
      ]
     },
     "metadata": {},
     "output_type": "display_data"
    }
   ],
   "source": [
    "PREDICT=[5,2]\n",
    "p=clf.predict(PREDICT)\n",
    "print(p)\n",
    "\n",
    "col=['r','g','b']\n",
    "\n",
    "for pt in X:\n",
    "    plt.scatter(pt[0],pt[1],c=\"orange\")\n",
    "plt.show()\n",
    "\n",
    "for pt in clf.cluster_final:\n",
    "    for h in clf.cluster_final[pt]:\n",
    "        plt.scatter(h[0],h[1],c=col[pt])\n",
    "    plt.scatter(clf.centroid_final[pt][0],clf.centroid_final[pt][1],c=col[pt],marker=\"+\",s=200)\n",
    "    \n",
    "plt.scatter(PREDICT[0],PREDICT[1],marker=\"*\",c=\"k\",s=200)\n",
    "plt.show()"
   ]
  },
  {
   "cell_type": "code",
   "execution_count": 8,
   "metadata": {},
   "outputs": [
    {
     "data": {
      "text/plain": [
       "{0: array([5.006, 3.418]),\n",
       " 1: array([5.77358491, 2.69245283]),\n",
       " 2: array([6.81276596, 3.07446809])}"
      ]
     },
     "execution_count": 8,
     "metadata": {},
     "output_type": "execute_result"
    }
   ],
   "source": [
    "clf.centroid_final"
   ]
  },
  {
   "cell_type": "code",
   "execution_count": 9,
   "metadata": {},
   "outputs": [
    {
     "name": "stdout",
     "output_type": "stream",
     "text": [
      "(0, [array([5.1, 3.5]), array([4.9, 3. ]), array([4.7, 3.2]), array([4.6, 3.1]), array([5. , 3.6]), array([5.4, 3.9]), array([4.6, 3.4]), array([5. , 3.4]), array([4.4, 2.9]), array([4.9, 3.1]), array([5.4, 3.7]), array([4.8, 3.4]), array([4.8, 3. ]), array([4.3, 3. ]), array([5.8, 4. ]), array([5.7, 4.4]), array([5.4, 3.9]), array([5.1, 3.5]), array([5.7, 3.8]), array([5.1, 3.8]), array([5.4, 3.4]), array([5.1, 3.7]), array([4.6, 3.6]), array([5.1, 3.3]), array([4.8, 3.4]), array([5., 3.]), array([5. , 3.4]), array([5.2, 3.5]), array([5.2, 3.4]), array([4.7, 3.2]), array([4.8, 3.1]), array([5.4, 3.4]), array([5.2, 4.1]), array([5.5, 4.2]), array([4.9, 3.1]), array([5. , 3.2]), array([5.5, 3.5]), array([4.9, 3.1]), array([4.4, 3. ]), array([5.1, 3.4]), array([5. , 3.5]), array([4.5, 2.3]), array([4.4, 3.2]), array([5. , 3.5]), array([5.1, 3.8]), array([4.8, 3. ]), array([5.1, 3.8]), array([4.6, 3.2]), array([5.3, 3.7]), array([5. , 3.3])])\n",
      "(1, [array([5.5, 2.3]), array([5.7, 2.8]), array([4.9, 2.4]), array([5.2, 2.7]), array([5., 2.]), array([5.9, 3. ]), array([6. , 2.2]), array([6.1, 2.9]), array([5.6, 2.9]), array([5.6, 3. ]), array([5.8, 2.7]), array([6.2, 2.2]), array([5.6, 2.5]), array([5.9, 3.2]), array([6.1, 2.8]), array([6.3, 2.5]), array([6.1, 2.8]), array([6. , 2.9]), array([5.7, 2.6]), array([5.5, 2.4]), array([5.5, 2.4]), array([5.8, 2.7]), array([6. , 2.7]), array([5.4, 3. ]), array([6. , 3.4]), array([6.3, 2.3]), array([5.6, 3. ]), array([5.5, 2.5]), array([5.5, 2.6]), array([6.1, 3. ]), array([5.8, 2.6]), array([5. , 2.3]), array([5.6, 2.7]), array([5.7, 3. ]), array([5.7, 2.9]), array([6.2, 2.9]), array([5.1, 2.5]), array([5.7, 2.8]), array([5.8, 2.7]), array([4.9, 2.5]), array([5.7, 2.5]), array([5.8, 2.8]), array([6. , 2.2]), array([5.6, 2.8]), array([6.3, 2.7]), array([6.2, 2.8]), array([6.1, 3. ]), array([6.3, 2.8]), array([6.1, 2.6]), array([6., 3.]), array([5.8, 2.7]), array([6.3, 2.5]), array([5.9, 3. ])])\n",
      "(2, [array([7. , 3.2]), array([6.4, 3.2]), array([6.9, 3.1]), array([6.5, 2.8]), array([6.3, 3.3]), array([6.6, 2.9]), array([6.7, 3.1]), array([6.4, 2.9]), array([6.6, 3. ]), array([6.8, 2.8]), array([6.7, 3. ]), array([6.7, 3.1]), array([6.3, 3.3]), array([7.1, 3. ]), array([6.3, 2.9]), array([6.5, 3. ]), array([7.6, 3. ]), array([7.3, 2.9]), array([6.7, 2.5]), array([7.2, 3.6]), array([6.5, 3.2]), array([6.4, 2.7]), array([6.8, 3. ]), array([6.4, 3.2]), array([6.5, 3. ]), array([7.7, 3.8]), array([7.7, 2.6]), array([6.9, 3.2]), array([7.7, 2.8]), array([6.7, 3.3]), array([7.2, 3.2]), array([6.4, 2.8]), array([7.2, 3. ]), array([7.4, 2.8]), array([7.9, 3.8]), array([6.4, 2.8]), array([7.7, 3. ]), array([6.3, 3.4]), array([6.4, 3.1]), array([6.9, 3.1]), array([6.7, 3.1]), array([6.9, 3.1]), array([6.8, 3.2]), array([6.7, 3.3]), array([6.7, 3. ]), array([6.5, 3. ]), array([6.2, 3.4])])\n"
     ]
    }
   ],
   "source": [
    "for c in clf.cluster_final.items():\n",
    "    print(c)"
   ]
  },
  {
   "cell_type": "code",
   "execution_count": null,
   "metadata": {},
   "outputs": [],
   "source": []
  }
 ],
 "metadata": {
  "kernelspec": {
   "display_name": "Python 3",
   "language": "python",
   "name": "python3"
  },
  "language_info": {
   "codemirror_mode": {
    "name": "ipython",
    "version": 3
   },
   "file_extension": ".py",
   "mimetype": "text/x-python",
   "name": "python",
   "nbconvert_exporter": "python",
   "pygments_lexer": "ipython3",
   "version": "3.6.5"
  }
 },
 "nbformat": 4,
 "nbformat_minor": 2
}
